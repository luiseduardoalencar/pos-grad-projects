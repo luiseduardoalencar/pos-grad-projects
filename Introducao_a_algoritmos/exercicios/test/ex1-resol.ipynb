{
 "cells": [
  {
   "cell_type": "code",
   "execution_count": 11,
   "metadata": {},
   "outputs": [
    {
     "name": "stdout",
     "output_type": "stream",
     "text": [
      "Caminho encontrado:\n",
      "* 1 * * * \n",
      "* 1 * 1 * \n",
      "* * * 1 * \n",
      "1 1 1 1 * \n",
      "0 0 0 0 * \n"
     ]
    }
   ],
   "source": [
    "matriz = [[0,1,0,0,0],\n",
    "          [0,1,0,1,0],\n",
    "          [0,0,0,1,0],\n",
    "          [1,1,1,1,0],\n",
    "          [0,0,0,0,0]]\n",
    "\n",
    "caminho = [[\" \" for _ in range(5)] for _ in range(5)]\n",
    "\n",
    "x,y = 0, 0\n",
    "caminho[x][y] = \"*\"\n",
    "\n",
    "while (x,y) != (4,4):\n",
    "    if x + 1 < 5 and matriz[x + 1][y] == 0 and caminho[x + 1][y] != \"*\":\n",
    "        x += 1\n",
    "    elif y + 1 < 5 and matriz[x][y + 1] == 0 and caminho[x][y + 1] != \"*\":\n",
    "        y += 1\n",
    "    elif x - 1 >= 0 and matriz[x - 1][y] == 0 and caminho[x - 1][y] != \"*\":\n",
    "        x -= 1\n",
    "    elif y - 1 >= 0 and matriz[x][y - 1] == 0 and caminho[x][y - 1] != \"*\":\n",
    "        y -= 1\n",
    "    else:\n",
    "        print(\"Caminho não encontrado\")\n",
    "        break\n",
    "    caminho[x][y] = \"*\"\n",
    "\n",
    "print(\"Caminho encontrado:\")\n",
    "for i in range(5):\n",
    "    linha = \"\"\n",
    "    for j in range(5):\n",
    "        if caminho[i][j] == \"*\":\n",
    "            linha += \"* \"\n",
    "        else:\n",
    "            linha += f\"{matriz[i][j]} \"\n",
    "    print(linha)\n",
    "\n",
    "\n",
    "\n",
    "\n",
    "                 \n"
   ]
  }
 ],
 "metadata": {
  "kernelspec": {
   "display_name": "Python 3",
   "language": "python",
   "name": "python3"
  },
  "language_info": {
   "codemirror_mode": {
    "name": "ipython",
    "version": 3
   },
   "file_extension": ".py",
   "mimetype": "text/x-python",
   "name": "python",
   "nbconvert_exporter": "python",
   "pygments_lexer": "ipython3",
   "version": "3.13.1"
  }
 },
 "nbformat": 4,
 "nbformat_minor": 2
}
