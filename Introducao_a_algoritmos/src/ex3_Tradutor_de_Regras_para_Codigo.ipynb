{
  "nbformat": 4,
  "nbformat_minor": 0,
  "metadata": {
    "colab": {
      "provenance": []
    },
    "kernelspec": {
      "name": "python3",
      "display_name": "Python 3"
    },
    "language_info": {
      "name": "python"
    }
  },
  "cells": [
    {
      "cell_type": "markdown",
      "source": [
        "# Atividade: Tradutor de Regras para Código (Sistema Especialista)\n",
        "\n",
        "## Objetivo\n",
        "Explorar **estruturas condicionais encadeadas** (`if` / `elif` / `else`) e **modularização de código** por meio da construção de uma lógica de decisão simples.\n",
        "\n",
        "---\n",
        "\n",
        "## Enunciado\n",
        "Desenvolva um sistema especialista simples que **classifique um animal** com base nas respostas a uma sequência de perguntas sobre suas **características biológicas**.\n",
        "\n",
        "O sistema deve fazer perguntas como:\n",
        "\n",
        "- O animal é **vertebrado**?\n",
        "- Possui **penas**?\n",
        "- Possui **pelos**?\n",
        "- Possui **escamas**?\n",
        "\n",
        "Com base nas respostas, o sistema deverá **emitir uma classificação final**, como:\n",
        "\n",
        "- “É uma ave.”\n",
        "- “É um mamífero.”\n",
        "- “É um peixe ou réptil.”\n",
        "- “É um invertebrado.”\n",
        "\n",
        "---\n",
        "\n",
        "## Entrada\n",
        "Respostas do usuário a perguntas de **sim ou não** (`s` ou `n`), coletadas via `input()`.\n",
        "\n",
        "---\n",
        "\n",
        "## Saída\n",
        "Uma **mensagem textual** com a classificação final do animal.\n",
        "\n",
        "---\n",
        "\n",
        "## Extensão Sugerida\n",
        "Permitir que o usuário **cadastre novas regras** ou categorias utilizando estruturas como:\n",
        "\n",
        "- **Dicionários de decisão**\n",
        "- **Listas de características**\n",
        "- Ou árvore de decisão simulada com funções"
      ],
      "metadata": {
        "id": "qZ51buWGaPbN"
      }
    },
    {
      "cell_type": "code",
      "execution_count": null,
      "metadata": {
        "id": "vm-xq42eaOwn"
      },
      "outputs": [],
      "source": [
        "def classificar_animal():\n",
        "    if input(\"O animal é vertebrado? (s/n): \").lower() == 's':\n",
        "        if input(\"Possui penas? (s/n): \").lower() == 's':\n",
        "            return \"É uma ave.\"\n",
        "        elif input(\"Possui pelos? (s/n): \").lower() == 's':\n",
        "            return \"É um mamífero.\"\n",
        "        elif input(\"Possui escamas? (s/n): \").lower() == 's':\n",
        "            return \"É um peixe ou réptil.\"\n",
        "        else:\n",
        "            return \"Animal vertebrado não identificado.\"\n",
        "    else:\n",
        "        if input(\"Possui corpo segmentado? (s/n): \").lower() == 's':\n",
        "            return \"É um artrópode.\"\n",
        "        else:\n",
        "            return \"É um invertebrado simples.\"\n",
        "\n",
        "print(classificar_animal())"
      ]
    },
    {
      "cell_type": "code",
      "source": [
        "# Estrutura de regras (cada regra tem condições e resultado)\n",
        "regras = []\n",
        "\n",
        "def cadastrar_regra():\n",
        "    print(\"\\nCadastro de nova regra\")\n",
        "    condicoes = []\n",
        "    while True:\n",
        "        pergunta = input(\"Digite uma pergunta (ou ENTER para encerrar): \").strip()\n",
        "        if pergunta == \"\":\n",
        "            break\n",
        "        resposta_esperada = input(\"Resposta esperada (s/n): \").strip().lower()\n",
        "        condicoes.append((pergunta, resposta_esperada))\n",
        "    resultado = input(\"Classificação se todas as condições forem satisfeitas: \")\n",
        "    regras.append({\"condicoes\": condicoes, \"resultado\": resultado})\n",
        "    print(\"Regra cadastrada com sucesso!\")\n",
        "\n",
        "def executar_classificacao():\n",
        "    print(\"\\nClassificação:\")\n",
        "    respostas = {}\n",
        "    for regra in regras:\n",
        "        condicoes = regra[\"condicoes\"]\n",
        "        todas_satisfeitas = True\n",
        "        for pergunta, esperado in condicoes:\n",
        "            if pergunta not in respostas:\n",
        "                respostas[pergunta] = input(pergunta + \" (s/n): \").strip().lower()\n",
        "            if respostas[pergunta] != esperado:\n",
        "                todas_satisfeitas = False\n",
        "                break\n",
        "        if todas_satisfeitas:\n",
        "            return regra[\"resultado\"]\n",
        "    return \"Nenhuma regra satisfeita.\"\n",
        "\n",
        "# Exemplo de uso\n",
        "while (input(\"Deseja cadastrar uma nova regra? (s/n): \").strip().lower() == 's'):\n",
        "  cadastrar_regra()  # O aluno pode criar a regra: \"vertebrado\", \"penas\" → \"É uma ave\"\n",
        "print(executar_classificacao())\n"
      ],
      "metadata": {
        "id": "fIexqTnXf3Tn"
      },
      "execution_count": null,
      "outputs": []
    },
    {
      "cell_type": "code",
      "source": [
        "pip install scikit-learn"
      ],
      "metadata": {
        "id": "QbzmTlrHgAK8"
      },
      "execution_count": null,
      "outputs": []
    },
    {
      "cell_type": "code",
      "source": [
        "from sklearn.tree import DecisionTreeClassifier\n",
        "import numpy as np\n",
        "\n",
        "# Perguntas convertidas em características binárias (1 = sim, 0 = não)\n",
        "# Cada linha representa um animal: [vertebrado, penas, pelos, escamas]\n",
        "X = [\n",
        "    [1, 1, 0, 0],  # ave\n",
        "    [1, 0, 1, 0],  # mamífero\n",
        "    [1, 0, 0, 1],  # peixe ou réptil\n",
        "    [0, 0, 0, 0],  # invertebrado\n",
        "    [0, 0, 0, 0],  # invertebrado\n",
        "    [0, 0, 0, 0]   # invertebrado\n",
        "]\n",
        "\n",
        "# Saídas (rótulos)\n",
        "y = [\n",
        "    \"Ave\",\n",
        "    \"Mamífero\",\n",
        "    \"Peixe/Réptil\",\n",
        "    \"Invertebrado\",\n",
        "    \"Invertebrado\",\n",
        "    \"Invertebrado\"\n",
        "]\n",
        "\n",
        "# Treinar o modelo\n",
        "modelo = DecisionTreeClassifier()\n",
        "modelo.fit(X, y)\n",
        "\n",
        "# Coleta de dados do usuário\n",
        "def resposta(pergunta):\n",
        "    return 1 if input(pergunta + \" (s/n): \").strip().lower() == \"s\" else 0\n",
        "\n",
        "entrada = [\n",
        "    resposta(\"O animal é vertebrado?\"),\n",
        "    resposta(\"Possui penas?\"),\n",
        "    resposta(\"Possui pelos?\"),\n",
        "    resposta(\"Possui escamas?\")\n",
        "]\n",
        "\n",
        "# Classificação com o modelo\n",
        "predicao = modelo.predict([entrada])\n",
        "print(f\"\\nClassificação: {predicao[0]}\")\n"
      ],
      "metadata": {
        "id": "llFfIL-zf7RD",
        "outputId": "7e997615-9f91-400d-d620-9578d0f407d5",
        "colab": {
          "base_uri": "https://localhost:8080/"
        }
      },
      "execution_count": 1,
      "outputs": [
        {
          "output_type": "stream",
          "name": "stdout",
          "text": [
            "O animal é vertebrado? (s/n): n\n",
            "Possui penas? (s/n): n\n",
            "Possui pelos? (s/n): n\n",
            "Possui escamas? (s/n): s\n",
            "\n",
            "Classificação: Invertebrado\n"
          ]
        }
      ]
    }
  ]
}