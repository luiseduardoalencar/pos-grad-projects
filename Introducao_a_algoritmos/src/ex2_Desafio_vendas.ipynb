{
  "cells": [
    {
      "cell_type": "markdown",
      "metadata": {
        "id": "TqUgUZI8GGWB"
      },
      "source": [
        "# Atividade: Análise de Dados com Python\n",
        "\n",
        "## Contexto\n",
        "\n",
        "Você foi contratado como **analista de dados** de uma pequena empresa. O gerente está interessado em obter informações básicas sobre o desempenho de vendas nos últimos 6 meses. Sua missão é processar os dados e entregar as seguintes respostas:\n",
        "\n",
        "---\n",
        "\n",
        "## Perguntas a responder:\n",
        "\n",
        "1. **Qual a média das vendas dos últimos 6 meses?**\n",
        "2. **Qual foi o maior e o menor valor de venda?**\n",
        "3. **Quais meses tiveram vendas acima de R$ 2000?**\n",
        "\n",
        "---\n",
        "\n",
        "## O que você deve fazer:\n",
        "\n",
        "1. Gerar uma **massa de dados sintética** (valores aleatórios simulando vendas mensais).\n",
        "2. Armazenar esses dados em uma **lista**.\n",
        "3. Utilizar estruturas de **laços de repetição**, **comparações** e **list comprehensions** para responder às perguntas do gerente.\n",
        "4. meses = [\"Jan\", \"Fev\", \"Mar\", \"Abr\", \"Mai\", \"Jun\"]\n",
        "\n",
        "---"
      ]
    },
    {
      "cell_type": "code",
      "execution_count": null,
      "metadata": {
        "id": "UqPlS8s1GD4m"
      },
      "outputs": [
        {
          "name": "stdout",
          "output_type": "stream",
          "text": [
            "Total de vendas em janeiro: 501422545\n",
            "Total de vendas em fevereiro: 499605667\n",
            "Total de vendas em março: 500473765\n",
            "Total de vendas em abril: 500173329\n",
            "Total de vendas em maio: 501653041\n",
            "Total de vendas em junho: 500477338\n",
            "Média de vendas: 500634280.8333333\n"
          ]
        }
      ],
      "source": [
        "import random\n",
        "\n",
        "qtd = 0\n",
        "meses = [\"Jan\", \"Fev\", \"Mar\", \"Abr\", \"Mai\", \"Jun\"]\n",
        "vendas = []\n",
        "\n",
        "while qtd<100000:\n",
        "    qtd += 1\n",
        "    discount_dict = {mes:random.randint(10,10000) for mes in meses}\n",
        "    vendas.append(discount_dict)\n",
        "\n",
        "total_vendas_janeiro = sum(vendas[i][\"Jan\"] for i in range(len(vendas)))\n",
        "print(f\"Total de vendas em janeiro: {total_vendas_janeiro}\")\n",
        "\n",
        "total_vendas_fevereiro = sum(vendas[i][\"Fev\"] for i in range(len(vendas)))\n",
        "print(f\"Total de vendas em fevereiro: {total_vendas_fevereiro}\")\n",
        "\n",
        "total_vendas_marco = sum(vendas[i][\"Mar\"] for i in range(len(vendas)))\n",
        "print(f\"Total de vendas em março: {total_vendas_marco}\")\n",
        "\n",
        "total_vendas_abril = sum(vendas[i][\"Abr\"] for i in range(len(vendas)))\n",
        "print(f\"Total de vendas em abril: {total_vendas_abril}\")\n",
        "\n",
        "total_vendas_maio = sum(vendas[i][\"Mai\"] for i in range(len(vendas)))\n",
        "print(f\"Total de vendas em maio: {total_vendas_maio}\")\n",
        "\n",
        "total_vendas_junho = sum(vendas[i][\"Jun\"] for i in range(len(vendas)))\n",
        "print(f\"Total de vendas em junho: {total_vendas_junho}\")\n",
        "\n",
        "media_vendas = (total_vendas_janeiro + total_vendas_fevereiro + total_vendas_marco +\n",
        "                 total_vendas_abril + total_vendas_maio + total_vendas_junho) / 6\n",
        "\n",
        "print(f\"Média de vendas: {media_vendas}\")\n",
        "\n",
        "\n",
        "\n"
      ]
    },
    {
      "cell_type": "code",
      "execution_count": 18,
      "metadata": {},
      "outputs": [
        {
          "name": "stdout",
          "output_type": "stream",
          "text": [
            "Dados de Vendas Simulados\n",
            "   Mes  Vendas\n",
            "0  Jan     222\n",
            "1  Fev     121\n",
            "2  Mar    6441\n",
            "3  Abr    9223\n",
            "4  Mai    5355\n",
            "5  Jun    9800\n",
            "Média de vendas: 5193.666666666667\n",
            "Maior venda: 9800\n",
            "Menor venda: 121\n",
            "Vendas acima de 2000\n",
            "   Mes  Vendas\n",
            "2  Mar    6441\n",
            "3  Abr    9223\n",
            "4  Mai    5355\n",
            "5  Jun    9800\n"
          ]
        }
      ],
      "source": [
        "#Solução com pandas\n",
        "import pandas as pd\n",
        "meses = [\"Jan\", \"Fev\", \"Mar\", \"Abr\", \"Mai\", \"Jun\"]\n",
        "vendas = [random.randint(10,10000) for _ in range(6)]\n",
        "df = pd.DataFrame(\n",
        "    {\"Mes\": meses, \"Vendas\": vendas}\n",
        ")\n",
        "print(\"Dados de Vendas Simulados\")\n",
        "print(df)\n",
        "\n",
        "\n",
        "media =df[\"Vendas\"].mean()\n",
        "print(f\"Média de vendas: {media}\")\n",
        "maior = df[\"Vendas\"].max()\n",
        "menor = df[\"Vendas\"].min()\n",
        "print(f\"Maior venda: {maior}\")\n",
        "print(f\"Menor venda: {menor}\")\n",
        "\n",
        "\n",
        "filtro = df[df[\"Vendas\"] > 2000]\n",
        "print(\"Vendas acima de 2000\")\n",
        "print(filtro)"
      ]
    },
    {
      "cell_type": "markdown",
      "metadata": {
        "id": "rJN8hyASGXbR"
      },
      "source": []
    },
    {
      "cell_type": "code",
      "execution_count": null,
      "metadata": {},
      "outputs": [
        {
          "name": "stdout",
          "output_type": "stream",
          "text": [
            "=== RELATÓRIO DE VENDAS ===\n",
            "Janeiro: R$ 3164\n",
            "Fevereiro: R$ 2755\n",
            "Março: R$ 2553\n",
            "Abril: R$ 2992\n",
            "Maio: R$ 2210\n",
            "Junho: R$ 3066\n",
            "\n",
            "Média das Vendas: 2790.0\n",
            "Maior Venda: 3164\n",
            "Menor Venda: 2210\n",
            "\n",
            "Meses com vendas acima de R$ 2000:\n",
            "- Janeiro: R$ 3164\n",
            "- Fevereiro: R$ 2755\n",
            "- Março: R$ 2553\n",
            "- Abril: R$ 2992\n",
            "- Maio: R$ 2210\n",
            "- Junho: R$ 3066\n"
          ]
        }
      ],
      "source": [
        "import numpy as np\n",
        "\n",
        "meses = np.array([\"Janeiro\", \"Fevereiro\", \"Março\", \"Abril\", \"Maio\", \"Junho\"])\n",
        "vendas = np.random.randint(1000, 3501, size=6)  \n",
        "\n",
        "media = vendas.mean()\n",
        "maior = vendas.max()\n",
        "menor = vendas.min()\n",
        "\n",
        "indices_acima_2000 = np.where(vendas > 2000)[0]\n",
        "meses_acima_2000 = meses[indices_acima_2000]\n",
        "valores_acima_2000 = vendas[indices_acima_2000]\n",
        "\n",
        "print(\"=== RELATÓRIO DE VENDAS ===\")\n",
        "for mes, valor in zip(meses, vendas):\n",
        "    print(f\"{mes}: R$ {valor}\")\n",
        "\n",
        "print(\"\\nMédia das Vendas:\", round(media, 2))\n",
        "print(\"Maior Venda:\", maior)\n",
        "print(\"Menor Venda:\", menor)\n",
        "\n",
        "print(\"\\nMeses com vendas acima de R$ 2000:\")\n",
        "for mes, valor in zip(meses_acima_2000, valores_acima_2000):\n",
        "    print(f\"- {mes}: R$ {valor}\")"
      ]
    },
    {
      "cell_type": "markdown",
      "metadata": {},
      "source": []
    }
  ],
  "metadata": {
    "colab": {
      "provenance": []
    },
    "kernelspec": {
      "display_name": "Python 3",
      "name": "python3"
    },
    "language_info": {
      "codemirror_mode": {
        "name": "ipython",
        "version": 3
      },
      "file_extension": ".py",
      "mimetype": "text/x-python",
      "name": "python",
      "nbconvert_exporter": "python",
      "pygments_lexer": "ipython3",
      "version": "3.13.1"
    }
  },
  "nbformat": 4,
  "nbformat_minor": 0
}
