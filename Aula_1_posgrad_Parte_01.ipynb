{
  "cells": [
    {
      "cell_type": "markdown",
      "id": "VEB1CW5En8a0",
      "metadata": {
        "id": "VEB1CW5En8a0"
      },
      "source": [
        "# Módulo 1: Fundamentos de Algoritmos e Primeiros Passos com Python\n",
        "\n",
        "**Professor:** Ricardo Sekeff\n",
        "\n",
        "**Objetivos:**\n",
        "*   Compreender o que são algoritmos e a lógica de programação.\n",
        "*   Conhecer os tipos de dados básicos do Python (int, float, string, boolean).\n",
        "*   Aprender a declarar e manipular variáveis.\n",
        "*   Utilizar operadores aritméticos e lógicos.\n",
        "*   Entender a relevância desses conceitos para a Inteligência Artificial."
      ]
    },
    {
      "cell_type": "markdown",
      "id": "eUa7jbU3n8a2",
      "metadata": {
        "id": "eUa7jbU3n8a2"
      },
      "source": [
        "## O que são Algoritmos e Lógica de Programação?\n",
        "\n",
        "**Algoritmo:** Uma sequência **finita** e **bem definida** de passos para resolver um problema ou executar uma tarefa.\n",
        "*   **Analogia:** Uma receita de bolo é um algoritmo. Os passos para treinar um modelo de IA (pré-processar dados, definir arquitetura, treinar, avaliar) também formam um algoritmo.\n",
        "\n",
        "**Lógica de Programação:** A forma como estruturamos esses passos usando:\n",
        "*   **Sequência:** Executar passos um após o outro.\n",
        "*   **Decisão (Condição):** Escolher um caminho com base em uma condição (ex: *se* a acurácia for baixa, treine mais).\n",
        "*   **Repetição (Loop):** Executar um conjunto de passos várias vezes (ex: processar *todos* os dados de treinamento).\n",
        "\n",
        "**Pseudocódigo e Fluxogramas:** Ferramentas para *desenhar* ou *escrever* a lógica antes de codificar (hoje veremos conceitualmente)."
      ]
    },
    {
      "cell_type": "markdown",
      "id": "KdpPayRNn8a3",
      "metadata": {
        "id": "KdpPayRNn8a3"
      },
      "source": [
        "## Introdução ao Python e ao Ambiente Colab\n",
        "\n",
        "**Por que Python?**\n",
        "*   **Simples e Legível:** Ótimo para iniciantes e experts.\n",
        "*   **Vasta Comunidade e Bibliotecas:** Crucial para IA! Temos acesso fácil a ferramentas poderosas como NumPy, Pandas, Scikit-learn, TensorFlow, PyTorch.\n",
        "*   **Versátil:** Usado em desenvolvimento web, scripts, ciência de dados, IA, etc.\n",
        "\n",
        "**Google Colab:**\n",
        "*   Ambiente baseado no Jupyter Notebook que roda no navegador, sem precisar instalar nada.\n",
        "*   Permite criar **células de texto (Markdown)** como esta para explicações.\n",
        "*   Permite criar **células de código (Python)** para executar comandos.\n",
        "*   Para executar uma célula de código, clique no botão 'Play' (▶️) à esquerda ou use Shift+Enter."
      ]
    },
    {
      "cell_type": "code",
      "execution_count": null,
      "id": "W-aYHru7n8a3",
      "metadata": {
        "colab": {
          "base_uri": "https://localhost:8080/"
        },
        "id": "W-aYHru7n8a3",
        "outputId": "aaa8f510-2bed-47a3-a454-ff5a4102f8e1"
      },
      "outputs": [
        {
          "name": "stdout",
          "output_type": "stream",
          "text": [
            "Iniciando nossa jornada em IA com Python!\n"
          ]
        }
      ],
      "source": [
        "# Nosso primeiro comando em Python!\n",
        "# A função print() exibe mensagens na tela.\n",
        "\n",
        "print(\"Iniciando nossa jornada em IA com Python!\")"
      ]
    },
    {
      "cell_type": "markdown",
      "id": "3P1VwIp9n8a5",
      "metadata": {
        "id": "3P1VwIp9n8a5"
      },
      "source": [
        "## Variáveis e Tipos de Dados\n",
        "\n",
        "**Variável:** Um nome que usamos para guardar um valor na memória do computador. Pense como uma \"caixinha\" com uma etiqueta (o nome) e algo dentro (o valor).\n",
        "\n",
        "**Regras para Nomes:**\n",
        "*   Devem começar com letra ou underscore (`_`).\n",
        "*   Podem conter letras, números e underscore.\n",
        "*   São *case-sensitive* (`nome` é diferente de `Nome`).\n",
        "*   Evite usar palavras reservadas do Python (como `if`, `for`, `while`, `class`, etc.).\n",
        "\n",
        "**Tipos de Dados Primitivos:**\n",
        "*   `int`: Números inteiros (ex: 10, -5, 0).\n",
        "*   `float`: Números com ponto decimal (ex: 3.14, -0.5, 10.0).\n",
        "*   `str`: Sequências de caracteres (texto), entre aspas simples (`'`) ou duplas (`\"`) (ex: 'Olá', \"IA\").\n",
        "*   `bool`: Valores lógicos Verdadeiro (`True`) ou Falso (`False`).\n",
        "\n",
        "**Relevância para IA:**\n",
        "*   `int`: Número de épocas de treinamento, contagem de amostras, número de neurônios.\n",
        "*   `float`: Taxa de aprendizado, valor da função de perda (loss), acurácia do modelo, valores de features.\n",
        "*   `str`: Nomes de classes ('cachorro', 'gato'), caminhos de arquivos, identificadores.\n",
        "*   `bool`: Indicar se um modelo convergiu, se uma condição foi atendida, flags de configuração."
      ]
    },
    {
      "cell_type": "code",
      "execution_count": null,
      "id": "vCIWkdghn8a5",
      "metadata": {
        "id": "vCIWkdghn8a5"
      },
      "outputs": [],
      "source": [
        "# Declaração e Atribuição de Variáveis\n",
        "# O sinal '=' é o operador de atribuição\n",
        "\n",
        "# Exemplo: Dados de um modelo simples de classificação de imagens\n",
        "nome_modelo = \"Classificador K-NN\"  # str\n",
        "numero_vizinhos = 5               # int\n",
        "acuracia_teste = 0.92             # float\n",
        "foi_validado = True               # bool\n",
        "\n",
        "# Usando print() para ver os valores e type() para ver o tipo\n",
        "print(\"Nome do Modelo:\", nome_modelo, \"- Tipo:\", type(nome_modelo))\n",
        "print(\"Número de Vizinhos:\", numero_vizinhos, \"- Tipo:\", type(numero_vizinhos))\n",
        "print(\"Acurácia no Teste:\", acuracia_teste, \"- Tipo:\", type(acuracia_teste))\n",
        "print(\"Foi Validado?\", foi_validado, \"- Tipo:\", type(foi_validado))"
      ]
    },
    {
      "cell_type": "markdown",
      "id": "ci8HeKJZn8a6",
      "metadata": {
        "id": "ci8HeKJZn8a6"
      },
      "source": [
        "## Operadores\n",
        "\n",
        "São símbolos especiais que realizam operações sobre valores (operandos).\n",
        "\n",
        "**Operadores Aritméticos:**\n",
        "*   `+`: Adição\n",
        "*   `-`: Subtração\n",
        "*   `*`: Multiplicação\n",
        "*   `/`: Divisão (resultado sempre float)\n",
        "*   `//`: Divisão inteira (descarta a parte decimal)\n",
        "*   `%`: Módulo (resto da divisão inteira)\n",
        "*   `**`: Exponenciação (potência)\n",
        "\n",
        "**Operadores de Comparação (Relacionais):** Retornam `True` ou `False`.\n",
        "*   `==`: Igual a\n",
        "*   `!=`: Diferente de\n",
        "*   `>`: Maior que\n",
        "*   `<`: Menor que\n",
        "*   `>=`: Maior ou igual a\n",
        "*   `<=`: Menor ou igual a\n",
        "\n",
        "**Operadores Lógicos:** Combinam expressões booleanas.\n",
        "*   `and`: Retorna `True` se AMBAS as condições forem `True`.\n",
        "*   `or`: Retorna `True` se PELO MENOS UMA condição for `True`.\n",
        "*   `not`: Inverte o valor booleano (`True` vira `False`, `False` vira `True`).\n",
        "\n",
        "**Relevância para IA:**\n",
        "*   Aritméticos: Calcular métricas (erro, precisão), atualizar pesos em redes neurais, normalizar dados.\n",
        "*   Comparação: Definir regras em sistemas especialistas, checar critérios de parada de treinamento (loss < threshold), comparar performance de modelos.\n",
        "*   Lógicos: Combinar múltiplas condições para tomada de decisão (ex: *se* acurácia > X *e* perda < Y), filtrar dados."
      ]
    },
    {
      "cell_type": "code",
      "execution_count": null,
      "id": "GhRWybf7n8a6",
      "metadata": {
        "colab": {
          "base_uri": "https://localhost:8080/"
        },
        "id": "GhRWybf7n8a6",
        "outputId": "4af3fadc-51ee-44b7-f1dd-cc7cbb3f0ebb"
      },
      "outputs": [
        {
          "name": "stdout",
          "output_type": "stream",
          "text": [
            "Melhoria absoluta na acurácia: 0.030\n",
            "Melhoria relativa na acurácia: 3.41%\n",
            "\n",
            "Valor da perda atual: 0.15\n",
            "Parar treinamento baseado na perda? False\n",
            "\n",
            "Acurácia atual: 0.91, Perda atual: 0.15\n",
            "Critérios: Acurácia >= 0.9 E Perda <= 0.2\n",
            "Modelo aceitável? True\n",
            "Liberar modelo para produção? True\n",
            "Precisa de mais dados ou ajustes? False\n"
          ]
        }
      ],
      "source": [
        "# Exemplos de Operadores\n",
        "\n",
        "# Aritméticos: Calcular melhoria na acurácia\n",
        "acuracia_anterior = 0.88\n",
        "acuracia_atual = 0.91\n",
        "melhoria_abs = acuracia_atual - acuracia_anterior\n",
        "melhoria_rel = (melhoria_abs / acuracia_anterior) * 100 # Melhoria percentual\n",
        "\n",
        "# Usando f-strings para formatar a saída (mais moderno)\n",
        "print(f\"Melhoria absoluta na acurácia: {melhoria_abs:.3f}\")\n",
        "print(f\"Melhoria relativa na acurácia: {melhoria_rel:.2f}%\")\n",
        "\n",
        "# Comparação: Verificar critério de parada de treinamento (loss)\n",
        "perda_atual = 0.15  # Valor da função de perda (loss)\n",
        "limite_perda = 0.10 # Critério para parar\n",
        "parar_treinamento = perda_atual < limite_perda\n",
        "print(f\"\\nValor da perda atual: {perda_atual}\")\n",
        "print(f\"Parar treinamento baseado na perda? {parar_treinamento}\")\n",
        "\n",
        "# Lógicos: Verificar se modelo é aceitável (combinação de critérios)\n",
        "acuracia_minima = 0.90\n",
        "perda_maxima = 0.20\n",
        "modelo_aceitavel = (acuracia_atual >= acuracia_minima) and (perda_atual <= perda_maxima)\n",
        "\n",
        "print(f\"\\nAcurácia atual: {acuracia_atual}, Perda atual: {perda_atual}\")\n",
        "print(f\"Critérios: Acurácia >= {acuracia_minima} E Perda <= {perda_maxima}\")\n",
        "print(f\"Modelo aceitável? {modelo_aceitavel}\")\n",
        "\n",
        "# Exemplo com o uso de 'or'\n",
        "tem_validacao_cruzada = False\n",
        "modelo_simples = True\n",
        "liberar_modelo = modelo_aceitavel or (tem_validacao_cruzada and acuracia_atual > 0.85) or modelo_simples\n",
        "print(f\"Liberar modelo para produção? {liberar_modelo}\")\n",
        "\n",
        "# Exemplo com 'not'\n",
        "precisa_mais_dados = not modelo_aceitavel\n",
        "print(f\"Precisa de mais dados ou ajustes? {precisa_mais_dados}\")"
      ]
    },
    {
      "cell_type": "markdown",
      "id": "rWyHZ97dn8a7",
      "metadata": {
        "id": "rWyHZ97dn8a7"
      },
      "source": [
        "## Próximos Passos\n",
        "\n",
        "Vimos os blocos fundamentais: como guardar dados (variáveis), os tipos desses dados, e como realizar operações básicas (operadores).\n",
        "\n",
        "No próximo módulo, vamos aprender como controlar o **fluxo** do nosso programa. Como fazer o computador tomar decisões (`if`) e repetir tarefas (`for`, `while`), o que é essencial para resolver problemas mais complexos, como analisar conjuntos de dados no nosso primeiro Caso Prático!"
      ]
    },
    {
      "cell_type": "code",
      "execution_count": 1,
      "id": "cd2bd8bb",
      "metadata": {},
      "outputs": [
        {
          "name": "stdout",
          "output_type": "stream",
          "text": [
            "1 2 3 \n",
            "4 5 6 \n",
            "7 8 9 \n"
          ]
        }
      ],
      "source": [
        "#Matrizes\n",
        "\n",
        "matriz = [[1,2,3],[4,5,6],[7,8,9]]\n",
        "for linha in matriz:\n",
        "    for elemento in linha:\n",
        "        print(elemento, end=\" \")\n",
        "    print() "
      ]
    },
    {
      "cell_type": "code",
      "execution_count": 2,
      "id": "79749487",
      "metadata": {},
      "outputs": [
        {
          "name": "stdout",
          "output_type": "stream",
          "text": [
            "Total de pixels ativos: 5\n"
          ]
        }
      ],
      "source": [
        "imagem = [[0,1,1],[1,1,0],[0,1,0]]\n",
        "ativos = sum([sum(linha) for linha in imagem])\n",
        "print(f\"Total de pixels ativos: {ativos}\")"
      ]
    },
    {
      "cell_type": "code",
      "execution_count": null,
      "id": "2937c09c",
      "metadata": {},
      "outputs": [],
      "source": []
    }
  ],
  "metadata": {
    "colab": {
      "provenance": []
    },
    "kernelspec": {
      "display_name": "Python 3",
      "language": "python",
      "name": "python3"
    },
    "language_info": {
      "codemirror_mode": {
        "name": "ipython",
        "version": 3
      },
      "file_extension": ".py",
      "mimetype": "text/x-python",
      "name": "python",
      "nbconvert_exporter": "python",
      "pygments_lexer": "ipython3",
      "version": "3.13.1"
    }
  },
  "nbformat": 4,
  "nbformat_minor": 5
}
